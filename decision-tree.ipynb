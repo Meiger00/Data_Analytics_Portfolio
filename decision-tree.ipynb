{
 "cells": [
  {
   "cell_type": "markdown",
   "metadata": {
    "id": "41gUXQFRBD2h"
   },
   "source": [
    "# Decision Tree Algorithm (From Scratch)\n",
    "# Created By: Michael Eiger and Sean Daylor"
   ]
  },
  {
   "cell_type": "code",
   "execution_count": 262,
   "metadata": {
    "id": "kQrKGU0DYTjJ"
   },
   "outputs": [],
   "source": [
    "# Import the packages necessary for both tree implementation and conducting the data analysis\n",
    "import pandas as pd\n",
    "import matplotlib.pyplot as plt\n",
    "import seaborn as sns\n",
    "from sklearn.model_selection import train_test_split\n",
    "from scipy.stats import entropy\n",
    "from sklearn.metrics import confusion_matrix"
   ]
  },
  {
   "cell_type": "markdown",
   "metadata": {
    "id": "GZ-gKbDJBD2m"
   },
   "source": [
    "# Part 1: Decision Tree Implementation"
   ]
  },
  {
   "cell_type": "markdown",
   "metadata": {
    "id": "Knc41c59ZGcM"
   },
   "source": [
    "### General Solution for Implementation:\n",
    "* Create a class that will create instances of the object type \"DecisionTree\"\n",
    "\n",
    "    * Initialize the \"DecisionTree\" object's state (*__NOTE__: see ___ _init_ ___*)\n",
    "        * Take two arguments - (1) the feature values and (2) the target labels\n",
    "        * Establishes four attributes for the object - (1) the object containing a data set, (2) target labels, (3) target entropy and (4) a dictionary that will ultimately store the decision tree's hierarchy\n",
    " \n",
    "    * Create a class method that will calculate entropy through the use of a frequency table (*__NOTE__: see ___entropy__*)\n",
    "        * Take two arguments - (1) an argument that will be used to only calculate entropy on the target labels and (2) an argument that will be used to calculate entropy on the target labels versus the feature/predictor values (*NOTE: Both arguments are initiatlized as a NoneType value before being passed to store a finite frequency from which entropy is calculated*)  \n",
    "        * Calculates entropy for one attribute OR two attributes, then returns a float representing entropy\n",
    "        \n",
    "    * Create a class method that will calculate information gain (*__NOTE__: see ___information_gain__*)\n",
    "        * Take one argument - (1) a calculated entropy value relative to an attribute(s)\n",
    "        * Return a float representing information gain\n",
    "        \n",
    "    * Create a class method that will determine the column for best split based on information gain (*__NOTE__: see ___best_split__*)\n",
    "        * Take one argument - (1) the object containing a data set\n",
    "        * Return a key from a dictionary object that has the greatest (i.e., most-frequently occurring) associated value within said dictionary\n",
    "        \n",
    "    * Create a class method that will recursively build a ID3 decision tree (*__NOTE__: see ___grow_tree__*)\n",
    "        * Take two arguments - (1) the object containing a data set and (2) a variable initialized as a NoneType that will eventually store the on which the decision tree's hiearchy \n",
    "        * Return a dictionary-type object containing the hierarchy for the decision tree object, including the decision tree object's nodes\n",
    "\n",
    "    * Create a class method that will recursively predict target labels using the trained decision tree (*__NOTE__: see ___make_prediction__*)\n",
    "        * Take two arguments - (1) a dictionary that will store optimal nodes and (2) a dictionary in which the tree's hiearchy will be built \n",
    "        * Return a predicted target label after each step of recursion\n",
    "         \n",
    "    * Create a class method that will train the DecisionTree object on the training data (*__NOTE__: see __train__*)\n",
    "        * Take no arguments\n",
    "        * Do not return a value, but store the recursively built ID3 decision tree as one of the DecisionTree object's attributes\n",
    "        \n",
    "    * Create a class method that will train the DecisionTree object with the training data based on the data set/target labels passed during class initialization (*__NOTE__: see __predict__*)\n",
    "        * Take no arguments\n",
    "        * Return the data frame storing the predicted labels and actual labels for each row of the test data AND a float representing the accuracy of the classifier when predicting target labels from the test set"
   ]
  },
  {
   "cell_type": "code",
   "execution_count": 263,
   "metadata": {
    "id": "zy_iiAWvBD2n"
   },
   "outputs": [],
   "source": [
    "class DecisionTree:\n",
    "  def __init__(self, data, target):\n",
    "    self.data = data\n",
    "    self.target = target\n",
    "    # Calculate dataset entropy for Information Gain\n",
    "    self.target_entropy = self._entropy(value_counts=self.target.value_counts())\n",
    "    # Store instance's decision tree as attribute\n",
    "    self.tree = {}\n",
    "    # Temporary attribute for subset recursion\n",
    "    self.tmp = None\n",
    "\n",
    "  def _entropy(self, value_counts=None, freq=None):\n",
    "    \"\"\" Calculate entropy via frequency table \"\"\"\n",
    "    # Calculate entropy for one attribute\n",
    "    if value_counts is not None:\n",
    "      return entropy(value_counts, base=2)\n",
    "    # Calculate entropy for two attributes\n",
    "    elif freq is not None:\n",
    "      feature_ent = 0\n",
    "      # For every unique feature class in subset, calculate entropy and\n",
    "      # proportionally add it to feature's entropy\n",
    "      for class_ in freq.drop(\"Sum\", axis=0).index.values:\n",
    "        class_ent = self._entropy(freq.drop(\"Sum\", axis=1).loc[class_])\n",
    "        p = (freq.loc[class_][\"Sum\"]) / (freq.loc[\"Sum\"][\"Sum\"])\n",
    "        feature_ent += (class_ent*p)\n",
    "      return feature_ent\n",
    "\n",
    "  def _information_gain(self, feature_entropy):\n",
    "    \"\"\" Calculate Information Gain \"\"\"\n",
    "    # Subtract feature's entropy from dataset entropy\n",
    "    return self.target_entropy - feature_entropy\n",
    "\n",
    "  def _best_split(self, data):\n",
    "    \"\"\" Determine column for best split via Information Gain \"\"\"\n",
    "    ig_dict = {}\n",
    "    # For every feature create a frequency table with target variable,\n",
    "    # calculate the entropy and return the feature with the largest information\n",
    "    # gain as the decision node\n",
    "    for feature in data.drop(self.target.name, axis=1):\n",
    "      freq = pd.crosstab(index=self.target, columns=data[feature], margins=True, margins_name=\"Sum\").T\n",
    "      ig_dict[feature] = self._information_gain(self._entropy(freq=freq))\n",
    "    return max(ig_dict, key=ig_dict.get)\n",
    "\n",
    "  def _grow_tree(self, data, tree=None):\n",
    "    \"\"\" Recursively build ID3 decision tree \"\"\"\n",
    "    # Determine the decision node\n",
    "    node = self._best_split(data)\n",
    "\n",
    "    # Recursively build tree attribute\n",
    "    if tree is None:\n",
    "      tree={}\n",
    "      tree[node] = {}\n",
    "\n",
    "    # For every unique class value in subset filtered by decision node, filter by\n",
    "    # the unique class and determine if entropy is 0\n",
    "    for unique in data[node].unique():\n",
    "      subset = data.loc[(data[node] == unique)]\n",
    "      counts = subset[self.target.name].value_counts()\n",
    "\n",
    "      # If entropy is 0 or no more features to split on, record a leaf\n",
    "      if len(counts) == 1 or subset.equals(self.tmp):\n",
    "        tree[node][unique] = counts.index[0]\n",
    "      # Otherwise, record new branch and continue splitting\n",
    "      else:\n",
    "        self.tmp = subset\n",
    "        tree[node][unique] = self._grow_tree(subset)\n",
    "\n",
    "    return tree\n",
    "\n",
    "  def _make_prediction(self, record, tree):\n",
    "    \"\"\" Recursively predict target using trained decision tree \"\"\"\n",
    "    # Recursively traverse decision tree on test observation\n",
    "    for node in tree.keys():\n",
    "      value = record[node]\n",
    "      # If branch does not exist, return dataset's most probable target\n",
    "      try:\n",
    "        tree = tree[node][value]\n",
    "      except KeyError:\n",
    "        return self.target.value_counts().index[0]\n",
    "\n",
    "      # If type(tree) is dictionary, continue traversing tree\n",
    "      if type(tree) is dict:\n",
    "        pred = self._make_prediction(record, tree)\n",
    "      # Otherwise, we've found a leaf, return\n",
    "      else:\n",
    "        pred = tree\n",
    "      break\n",
    "    return pred\n",
    "\n",
    "  def train(self):\n",
    "    \"\"\" Method to train decision tree given initialized data and target variable \"\"\"\n",
    "    self.tree = self._grow_tree(self.data)\n",
    "\n",
    "  def predict(self, x_test, y_test):\n",
    "    \"\"\" Train the DecisionTree object with the training data based on the data set/target labels passed \"\"\"\n",
    "    # Apply lambda function to determine prediction row-wise on DataFrame object\n",
    "    x_test[\"prediction\"] = x_test.apply(lambda x: self._make_prediction(x, self.tree), axis=1)\n",
    "    # Add the actual target value\n",
    "    x_test[\"actual\"] = y_test\n",
    "    # Determine accuracy by checking if 'prediction' column matches 'actual' column\n",
    "    accuracy = (sum(x_test.apply(lambda x: 1 if x.actual == x.prediction else 0, axis=1)) / len(x_test))\n",
    "    return x_test, accuracy"
   ]
  },
  {
   "cell_type": "markdown",
   "metadata": {
    "id": "G9HHXWzyBD2r"
   },
   "source": [
    "# Part 2: Titanic Data Set"
   ]
  },
  {
   "cell_type": "markdown",
   "metadata": {
    "id": "rN3L964dBD2s"
   },
   "source": [
    "## Data Preprocessing/Analysis (Titanic)"
   ]
  },
  {
   "cell_type": "markdown",
   "metadata": {
    "id": "tWaxht5uJrKQ"
   },
   "source": [
    "#### Read in the data set and establish its dimensions/missing values"
   ]
  },
  {
   "cell_type": "code",
   "execution_count": 264,
   "metadata": {
    "colab": {
     "base_uri": "https://localhost:8080/",
     "height": 200
    },
    "id": "yA9abBFeBD2s",
    "outputId": "d0947e90-ebe5-4c82-8e30-d8f144189e74",
    "scrolled": false
   },
   "outputs": [
    {
     "name": "stdout",
     "output_type": "stream",
     "text": [
      "Dimensions of the Titanic data set (BEFORE dropping the 'Name' column): (887, 8)\n",
      "\n",
      "Dimensions of the Titanic data set (AFTER dropping the 'Name' column): (887, 7)\n",
      "\n",
      "Dimensions of the Titanic data set (AFTER dropping the 'Name' column AND dropping rows with missing values): (887, 7)\n"
     ]
    }
   ],
   "source": [
    "# Read in the Titanic data set\n",
    "df = pd.read_csv(\"https://raw.githubusercontent.com/URI-CSC/461-fall-2020/master/assignments/assignment-1/titanic.csv\")\n",
    "\n",
    "# Establish the dimensions of the Titantic data set\n",
    "print(\"Dimensions of the Titanic data set (BEFORE dropping the 'Name' column): \" + str(df.shape))\n",
    "print(\"\")\n",
    "\n",
    "# Drop the identifier variable 'Name', which will have no impact on the decision tree's ability to predict the target labels\n",
    "df = df.drop('Name', axis=1)\n",
    "print(\"Dimensions of the Titanic data set (AFTER dropping the 'Name' column): \" + str(df.shape))\n",
    "print(\"\")\n",
    "\n",
    "# Preemptively drop any rows with missing values from the data frame\n",
    "df = df.dropna(axis=0)\n",
    "df.reset_index(drop=True)\n",
    "\n",
    "# Determine if any rows were dropped due to at least one column within said row having a missing value\n",
    "print(\"Dimensions of the Titanic data set (AFTER dropping the 'Name' column AND dropping rows with missing values): \" + str(df.shape))"
   ]
  },
  {
   "cell_type": "markdown",
   "metadata": {},
   "source": [
    "**Based on the above output:**\n",
    "\n",
    "- BEFORE dropping the identifier column 'Name', the dimensions of the Titanic data set were: 887 rows and 8 columns\n",
    "    - Representing 887 passengers across 8 variables\n",
    "\n",
    "- AFTER dropping the identifier column 'Name', the dimensions of the Titanic data set were: 887 rows and 7 columns\n",
    "    - Representing 887 passengers across 7 variables\n",
    "\n",
    "- AFTER dropping the 'Name' column AND dropping rows with missing values, the dimensions of the Titanic data set were: 887 rows and 7 columns\n",
    "  - *(NOTE: Since no rows were dropped, this result indicates that no rows were missing values.)*"
   ]
  },
  {
   "cell_type": "markdown",
   "metadata": {
    "id": "1K7BIsL1BD2y"
   },
   "source": [
    "#### Identify the (non-identifier) variables in the Titanic data frame"
   ]
  },
  {
   "cell_type": "code",
   "execution_count": 265,
   "metadata": {
    "colab": {
     "base_uri": "https://localhost:8080/",
     "height": 417
    },
    "id": "iEgl-lRuBD2z",
    "outputId": "28d2e72c-adf6-4bf8-b43c-0fa8418b3077",
    "scrolled": false
   },
   "outputs": [
    {
     "name": "stdout",
     "output_type": "stream",
     "text": [
      "A list of remaining variables in the Titanic data frame and each column's respective value type:\n",
      "\n",
      "Survived                     int64\n",
      "Pclass                       int64\n",
      "Sex                         object\n",
      "Age                        float64\n",
      "Siblings/Spouses Aboard      int64\n",
      "Parents/Children Aboard      int64\n",
      "Fare                       float64\n",
      "dtype: object\n"
     ]
    }
   ],
   "source": [
    "# Identify the remaining variables in the data frame\n",
    "print(\"A list of remaining variables in the Titanic data frame and each column's respective value type:\")\n",
    "print(\"\")\n",
    "print(df.dtypes)"
   ]
  },
  {
   "cell_type": "markdown",
   "metadata": {},
   "source": [
    "**Based on the above output:**\n",
    "\n",
    "The Titanic data set contains the following seven variables after dropping the 'Name' column:\n",
    "1. Survived\n",
    "2. Pclass\n",
    "3. Sex\n",
    "4. Age\n",
    "5. Siblings/Spouses Aboard\n",
    "6. Parents/Children Aboard\n",
    "7. Fare\n",
    "\n",
    "Each column will be converted into a string type later in the program but prior to training the classifier model to ensure compability with the decision tree implementation.\n",
    "\n",
    "***NOTE: Each variable will be further processed and analayzed in the subsequent cells.***"
   ]
  },
  {
   "cell_type": "markdown",
   "metadata": {
    "id": "c0so_ONFBD24"
   },
   "source": [
    "#### Variable 1: Survived"
   ]
  },
  {
   "cell_type": "code",
   "execution_count": 266,
   "metadata": {
    "colab": {
     "base_uri": "https://localhost:8080/",
     "height": 721
    },
    "id": "MXcZyTjiBD24",
    "outputId": "1c31d3a9-36bd-4313-ea1d-90bc08da10a0"
   },
   "outputs": [
    {
     "name": "stdout",
     "output_type": "stream",
     "text": [
      "The data type of values in this column: int64\n",
      "\n",
      "The list of unique values among all records in this column: [0 1]\n",
      "\n",
      "The class distribution of values in this column: \n",
      "Survived\n",
      "0    545\n",
      "1    342\n",
      "dtype: int64\n",
      "\n",
      "Class Distribution Bar Chart:\n"
     ]
    },
    {
     "data": {
      "text/plain": [
       "(0.0, 600.0)"
      ]
     },
     "execution_count": 266,
     "metadata": {},
     "output_type": "execute_result"
    },
    {
     "data": {
      "image/png": "[encoded data removed]",
      "text/plain": [
       "<Figure size 720x432 with 1 Axes>"
      ]
     },
     "metadata": {},
     "output_type": "display_data"
    }
   ],
   "source": [
    "# Identify the data type of values in this column\n",
    "print(\"The data type of values in this column: \" + str(df['Survived'].dtypes))\n",
    "print(\"\")\n",
    "\n",
    "# Identify all of the unique values among records in this column\n",
    "survived = df['Survived'].unique()\n",
    "survived.sort()\n",
    "print(\"The list of unique values among all records in this column: \" + str(survived))\n",
    "print(\"\")\n",
    "\n",
    "# Generate a class distribution for values in this column\n",
    "print(\"The class distribution of values in this column: \")\n",
    "print(df.groupby('Survived').size())\n",
    "print(\"\")\n",
    "\n",
    "# Generate a bar chart to better visualize the class distribution\n",
    "print(\"\"\"Class Distribution Bar Chart:\"\"\")\n",
    "sns.set_style('whitegrid')\n",
    "plt.subplots(figsize=(10,6))\n",
    "sns.countplot(x = 'Survived', data = df, order = df['Survived'].value_counts().index).set_title(\"Class Distribution (Survival)\")\n",
    "plt.ylim(0, 600)"
   ]
  },
  {
   "cell_type": "markdown",
   "metadata": {},
   "source": [
    "**Based on the above output:**\n",
    "\n",
    "Variable #1: Survived\n",
    "- Column Type: Int\n",
    "- Two unique values: 0 and 1\n",
    "- Class distribution: 0 occurs 545 times, 1 occurs 342 times\n",
    "- Variable description: A discrete and binary response variable that indicates whether a given passenger survived the Titanic disaster or not. A value of 1 indicates that the passenger survived while a value of 0 indicates that the passenger did not survive."
   ]
  },
  {
   "cell_type": "markdown",
   "metadata": {
    "id": "8LocPNZwBD28"
   },
   "source": [
    "#### Variable 2: Pclass"
   ]
  },
  {
   "cell_type": "code",
   "execution_count": 267,
   "metadata": {
    "colab": {
     "base_uri": "https://localhost:8080/",
     "height": 737
    },
    "id": "E2SjuvKrBD28",
    "outputId": "fb292fd2-5200-4de6-c82b-1489cb67c83b",
    "scrolled": false
   },
   "outputs": [
    {
     "name": "stdout",
     "output_type": "stream",
     "text": [
      "The data type of values in this column: int64\n",
      "\n",
      "The list of unique values among all records in this column: [1 2 3]\n",
      "\n",
      "The class distribution of values in this column:\n",
      "Pclass\n",
      "1    216\n",
      "2    184\n",
      "3    487\n",
      "dtype: int64\n",
      "\n",
      "Class Distribution Bar Chart:\n"
     ]
    },
    {
     "data": {
      "text/plain": [
       "(0.0, 500.0)"
      ]
     },
     "execution_count": 267,
     "metadata": {},
     "output_type": "execute_result"
    },
    {
     "data": {
      "image/png": "[encoded data removed]",
      "text/plain": [
       "<Figure size 720x432 with 1 Axes>"
      ]
     },
     "metadata": {},
     "output_type": "display_data"
    }
   ],
   "source": [
    "# Identify the data type of values in this column\n",
    "print(\"The data type of values in this column: \" + str(df['Pclass'].dtypes))\n",
    "print(\"\")\n",
    "\n",
    "# Identify all of the unique values among records in this column\n",
    "pclass = df['Pclass'].unique()\n",
    "pclass.sort()\n",
    "print(\"The list of unique values among all records in this column: \" + str(pclass))\n",
    "print(\"\")\n",
    "\n",
    "# Generate a class distribution for values in this column\n",
    "print(\"The class distribution of values in this column:\")\n",
    "print(df.groupby('Pclass').size())\n",
    "print(\"\")\n",
    "\n",
    "# Generate a bar chart to better visualize the class distribution\n",
    "print(\"\"\"Class Distribution Bar Chart:\"\"\")\n",
    "plt.subplots(figsize=(10,6))\n",
    "sns.countplot(x = 'Pclass', data = df, order = df['Pclass'].value_counts().index).set_title(\"Class Distribution (Pclass)\")\n",
    "plt.ylim(0, 500)"
   ]
  },
  {
   "cell_type": "markdown",
   "metadata": {},
   "source": [
    "**Based on the above output:**\n",
    "\n",
    "Variable #2: Pclass\n",
    "- Column Type: Int\n",
    "- Three unique values: 1, 2, and 3\n",
    "- Class distribution: 1 occurs 216 times, 2 occurs 184 times, 3 occurs 487 times\n",
    "- Variable description: A discrete and ternary predictor variable that indicates the ticket class of a given passenger aboard the Titanic. A value of 1 indicates that the passenger was in the 1st ticket class, a value of 2 indicates that the passenger was 2nd ticket class, and a value of 3 indicates that the passenger was in the 3rd ticket class."
   ]
  },
  {
   "cell_type": "markdown",
   "metadata": {
    "id": "wb7C2MXxBD3A"
   },
   "source": [
    "#### Variable 3: Sex"
   ]
  },
  {
   "cell_type": "code",
   "execution_count": 268,
   "metadata": {
    "colab": {
     "base_uri": "https://localhost:8080/",
     "height": 721
    },
    "id": "NHC08l1gBD3B",
    "outputId": "031c68fe-a479-420d-9b0c-eec754368a47"
   },
   "outputs": [
    {
     "name": "stdout",
     "output_type": "stream",
     "text": [
      "The data type of values in this column: object\n",
      "\n",
      "The list of unique values among all records in this column: ['female' 'male']\n",
      "\n",
      "The class distribution of values in this column:\n",
      "Sex\n",
      "female    314\n",
      "male      573\n",
      "dtype: int64\n",
      "\n",
      "Class Distribution Bar Chart:\n"
     ]
    },
    {
     "data": {
      "text/plain": [
       "(0.0, 600.0)"
      ]
     },
     "execution_count": 268,
     "metadata": {},
     "output_type": "execute_result"
    },
    {
     "data": {
      "image/png": "[encoded data removed]",
      "text/plain": [
       "<Figure size 720x432 with 1 Axes>"
      ]
     },
     "metadata": {},
     "output_type": "display_data"
    }
   ],
   "source": [
    "# Identify the data type of values in this column\n",
    "print(\"The data type of values in this column: \" + str(df['Sex'].dtypes))\n",
    "print(\"\")\n",
    "\n",
    "# Identify all of the unique values among records in this column\n",
    "sex = df['Sex'].unique()\n",
    "sex.sort()\n",
    "print(\"The list of unique values among all records in this column: \" + str(sex))\n",
    "print(\"\")\n",
    "\n",
    "# Generate a class distribution for values in this column\n",
    "print(\"The class distribution of values in this column:\")\n",
    "print(df.groupby('Sex').size())\n",
    "print(\"\")\n",
    "\n",
    "# Generate a bar chart to better visualize the class distribution\n",
    "print(\"\"\"Class Distribution Bar Chart:\"\"\")\n",
    "plt.subplots(figsize=(10,6))\n",
    "sns.countplot(x = 'Sex', data = df, order = df['Sex'].value_counts().index).set_title(\"Class Distribution (Sex)\")\n",
    "plt.ylim(0, 600)"
   ]
  },
  {
   "cell_type": "markdown",
   "metadata": {},
   "source": [
    "**Based on the above output:**\n",
    "\n",
    "Variable #3: Sex\n",
    "- Column Type: Object\n",
    "- Two unique values: 'Female' and 'Male'\n",
    "- Class distribution: Female occurs 314 times, Male occurs 573 times\n",
    "- Variable description: Represented in the data set as a binary predictor variable with string-type objects representing one of two distinct groups: female or male. A value of 'female' indicates that a passenger was female while a value of 'male' indicates that the passenger was male."
   ]
  },
  {
   "cell_type": "markdown",
   "metadata": {
    "id": "D6h75fv_BD3Q"
   },
   "source": [
    "#### Variable 4: Age"
   ]
  },
  {
   "cell_type": "code",
   "execution_count": 269,
   "metadata": {
    "colab": {
     "base_uri": "https://localhost:8080/",
     "height": 383
    },
    "id": "ymSSJp6BBD3R",
    "outputId": "c72203d8-0924-4ebb-d775-29710205c5fb"
   },
   "outputs": [
    {
     "name": "stdout",
     "output_type": "stream",
     "text": [
      "The data type of values in this column: float64\n",
      "\n",
      "The list of unique values among all records in this column:\n",
      "[ 0.42  0.67  0.75  0.83  0.92  1.    2.    3.    4.    5.    6.    7.\n",
      "  8.    9.   10.   11.   12.   13.   14.   14.5  15.   16.   17.   18.\n",
      " 19.   20.   20.5  21.   22.   23.   23.5  24.   24.5  25.   26.   27.\n",
      " 28.   28.5  29.   30.   30.5  31.   32.   32.5  33.   34.   34.5  35.\n",
      " 36.   36.5  37.   38.   39.   40.   40.5  41.   42.   43.   44.   45.\n",
      " 45.5  46.   47.   48.   49.   50.   51.   52.   53.   54.   55.   55.5\n",
      " 56.   57.   58.   59.   60.   61.   62.   63.   64.   65.   66.   69.\n",
      " 70.   70.5  71.   74.   80.  ]\n",
      "\n",
      "Summary statistics for this column:\n",
      "count    887.000000\n",
      "mean      29.471443\n",
      "std       14.121908\n",
      "min        0.420000\n",
      "25%       20.250000\n",
      "50%       28.000000\n",
      "75%       38.000000\n",
      "max       80.000000\n",
      "Name: Age, dtype: float64\n"
     ]
    },
    {
     "data": {
      "text/plain": [
       "Text(0.5, 0, 'Age (in Years)')"
      ]
     },
     "execution_count": 269,
     "metadata": {},
     "output_type": "execute_result"
    },
    {
     "data": {
      "image/png": "[encoded data removed]",
      "text/plain": [
       "<Figure size 432x288 with 1 Axes>"
      ]
     },
     "metadata": {},
     "output_type": "display_data"
    }
   ],
   "source": [
    "# Identify the data type of values in this column\n",
    "print(\"The data type of values in this column: \" + str(df['Age'].dtypes))\n",
    "print(\"\")\n",
    "\n",
    "# Identify all of the unique values among records in this column\n",
    "age = df['Age'].unique()\n",
    "age.sort()\n",
    "print(\"The list of unique values among all records in this column:\")\n",
    "print(age)\n",
    "print(\"\")\n",
    "\n",
    "# Summary statistics for this column\n",
    "print(\"Summary statistics for this column:\")\n",
    "print(df['Age'].describe())\n",
    "\n",
    "# Histogram to view the shape of the column's value distribution curve\n",
    "df['Age'].hist(bins = 10)\n",
    "plt.title('Age Distribution')\n",
    "plt.ylabel('Frequency')\n",
    "plt.xlabel('Age (in Years)')"
   ]
  },
  {
   "cell_type": "markdown",
   "metadata": {},
   "source": [
    "**Summary Statistics for Age (Pre-Discretization)**\n",
    "- Mean Age: 29.471443 years old\n",
    "- Standard Deviation: 14.121908 years\n",
    "- Minimum Age: 0.42 years old\n",
    "- Maximum Age: 80 years old\n",
    "- 25th Percentile: 20.25 years old\n",
    "- 50th Percentile (i.e., Median): 28 years old\n",
    "- 75th Percentile: 38 years old\n",
    "\n",
    "- ** Because the column's mean is greater than its median, the column's value distribution exhibited positive-skewedness.\n",
    "\n",
    "**NOTE:** Because the variable 'Age' is a float type column with and thus has continuous values, discretization will be performed in the following cell to ensure that values in this column are more easily interpretable when read into the decision tree classifier. "
   ]
  },
  {
   "cell_type": "code",
   "execution_count": 270,
   "metadata": {
    "colab": {
     "base_uri": "https://localhost:8080/",
     "height": 671
    },
    "id": "BBujFWYyBD3X",
    "outputId": "8ed04f6e-49b5-4333-f250-eeb192778163"
   },
   "outputs": [
    {
     "name": "stdout",
     "output_type": "stream",
     "text": [
      "The NEW data type of values in this column: Category\n",
      "\n",
      "The NEW list of unique values among all records in this column: [0 1 2 3]\n",
      "\n",
      "The class distribution of values in this column:\n",
      "Age\n",
      "0    222\n",
      "1    243\n",
      "2    208\n",
      "3    214\n",
      "dtype: int64\n",
      "\n",
      "Class Distribution Histogram:\n"
     ]
    },
    {
     "data": {
      "text/plain": [
       "Text(0, 0.5, 'Frequency')"
      ]
     },
     "execution_count": 270,
     "metadata": {},
     "output_type": "execute_result"
    },
    {
     "data": {
      "image/png": "[encoded data removed]",
      "text/plain": [
       "<Figure size 720x432 with 1 Axes>"
      ]
     },
     "metadata": {},
     "output_type": "display_data"
    }
   ],
   "source": [
    "# Discretize the continuous values by binning them\n",
    "df['Age'] = pd.qcut(df['Age'], q=4, labels=[0, 1, 2, 3], duplicates=\"drop\")\n",
    "\n",
    "# Reevaluate the data type of values in this column\n",
    "print(\"The NEW data type of values in this column: \" + str(df['Age'].dtypes).capitalize())\n",
    "print(\"\")\n",
    "\n",
    "# Reevaluate all of the unique values among records in this column\n",
    "df['Age'] = df['Age'].astype(int) # To enable unique values to be sorted via .sort()\n",
    "age = df['Age'].unique()\n",
    "age.sort()\n",
    "print(\"The NEW list of unique values among all records in this column: \" + str(age))\n",
    "print(\"\")\n",
    "\n",
    "# Generate a class distribution for binned values in this column\n",
    "print(\"The class distribution of values in this column:\")\n",
    "print(df.groupby('Age').size())\n",
    "print(\"\")\n",
    "\n",
    "# Generate a bar chart to better visualize the class distribution\n",
    "print(\"\"\"Class Distribution Histogram:\"\"\")\n",
    "plt.subplots(figsize=(10,6))\n",
    "plt.hist(df['Age'], bins = 4, range = (0,4))\n",
    "plt.title('Class Distribution (Age)')\n",
    "plt.xlabel('Age Ranges (See Variable Description for Label meanings)')\n",
    "plt.ylabel('Frequency')"
   ]
  },
  {
   "cell_type": "markdown",
   "metadata": {},
   "source": [
    "**Based on the above output:**\n",
    "\n",
    "Variable #4: Age (POST-DISCRETIZATION)\n",
    "- Column Type: Category\n",
    "- Four unique values: 0, 1, 2, and 3\n",
    "- Class distribution: 0 occurs 222 times, 1 occurs 243 times, 2 occurs 208 times, 3 occurs 214 times\n",
    "- Variable description: Originally represented in the data set as a continuous predictor variable with values being indicative of a Titanic passenger's age in years. However, the decision tree model benefits from being given discrete variables for each stage of implementation. To discretize the Age values into an easily interpretable form, all continuous values were first divided into four separate bins with each bin representing a percentile range (0 = 0th - 25th percentile, 1 = 26th to 50th percentile, 2 = 51st to 75th percentile, 3 = 76th to 100th percentile) of ages from the span of all values originally in the column."
   ]
  },
  {
   "cell_type": "markdown",
   "metadata": {
    "id": "1crTNNi5BD3a"
   },
   "source": [
    "#### Variable 5: Siblings/Spouses Aboard"
   ]
  },
  {
   "cell_type": "code",
   "execution_count": 271,
   "metadata": {
    "colab": {
     "base_uri": "https://localhost:8080/",
     "height": 787
    },
    "id": "l2XftOvcBD3b",
    "outputId": "30de5971-d6d8-42b1-c351-d6097dfdbf00"
   },
   "outputs": [
    {
     "name": "stdout",
     "output_type": "stream",
     "text": [
      "The data type of values in this column: int64\n",
      "\n",
      "The list of unique values among all records in this column: [0 1 2 3 4 5 8]\n",
      "\n",
      "The class distribution of values in this column:\n",
      "Siblings/Spouses Aboard\n",
      "0    604\n",
      "1    209\n",
      "2     28\n",
      "3     16\n",
      "4     18\n",
      "5      5\n",
      "8      7\n",
      "dtype: int64\n",
      "\n",
      "Class Distribution Bar Chart:\n"
     ]
    },
    {
     "data": {
      "text/plain": [
       "Text(0.5, 1.0, 'Class Distribution (Siblings/Spouses Aboard)')"
      ]
     },
     "execution_count": 271,
     "metadata": {},
     "output_type": "execute_result"
    },
    {
     "data": {
      "image/png": "[encoded data removed]",
      "text/plain": [
       "<Figure size 720x432 with 1 Axes>"
      ]
     },
     "metadata": {},
     "output_type": "display_data"
    }
   ],
   "source": [
    "# Identify the data type of values in this column\n",
    "print(\"The data type of values in this column: \" + str(df['Siblings/Spouses Aboard'].dtypes))\n",
    "print(\"\")\n",
    "\n",
    "# Identify all of the unique values among records in this column\n",
    "siblings_spouses = df['Siblings/Spouses Aboard'].unique()\n",
    "siblings_spouses.sort()\n",
    "print(\"The list of unique values among all records in this column: \" + str(siblings_spouses))\n",
    "print(\"\")\n",
    "\n",
    "# Generate a class distribution for values in this column\n",
    "print(\"The class distribution of values in this column:\")\n",
    "print(df.groupby('Siblings/Spouses Aboard').size())\n",
    "print(\"\")\n",
    "\n",
    "# Generate a bar chart to better visualize the class distribution\n",
    "print(\"\"\"Class Distribution Bar Chart:\"\"\")\n",
    "plt.subplots(figsize=(10,6))\n",
    "sns.countplot(x = 'Siblings/Spouses Aboard', data = df, order = df['Siblings/Spouses Aboard'].value_counts().index).set_title(\"Class Distribution (Siblings/Spouses Aboard)\")"
   ]
  },
  {
   "cell_type": "markdown",
   "metadata": {},
   "source": [
    "**Based on the above output:**\n",
    "\n",
    "Variable #5: Siblings/Spouses Aboard\n",
    "- Column Type: Int\n",
    "- Seven unique values: 0, 1, 2, 3, 4, 5, and 8\n",
    "- Class distribution: 0 occurs 604 times, 1 occurs 209 times, 2 occurs 28 times, 3 occurs 16 times, 4 occurs 18 times, 5 occurs 5 times, and 8 occurs 7 times\n",
    "- Variable description: A discrete predictor variable whose values indicate how many siblings/spouses that a given passenger had aboard the Titanic. A value of 0 indicates that a passenger had 0 siblings/spouses aboard the ship, a value of 1 indicates that a passenger had 1 sibling/spouse aboard the ship, and so on."
   ]
  },
  {
   "cell_type": "markdown",
   "metadata": {
    "id": "hGOS2IzYBD3g"
   },
   "source": [
    "#### Variable 6: Parents/Children Aboard"
   ]
  },
  {
   "cell_type": "code",
   "execution_count": 272,
   "metadata": {
    "colab": {
     "base_uri": "https://localhost:8080/",
     "height": 787
    },
    "id": "vK8zjBoiBD3h",
    "outputId": "1f4474d5-d1f6-41e1-b3cd-9405955808d1"
   },
   "outputs": [
    {
     "name": "stdout",
     "output_type": "stream",
     "text": [
      "The data type of values in this column: int64\n",
      "\n",
      "The list of unique values among all records in this column: [0 1 2 3 4 5 6]\n",
      "\n",
      "The class distribution of values in this column:\n",
      "Parents/Children Aboard\n",
      "0    674\n",
      "1    118\n",
      "2     80\n",
      "3      5\n",
      "4      4\n",
      "5      5\n",
      "6      1\n",
      "dtype: int64\n",
      "\n",
      "Class Distribution Bar Chart:\n"
     ]
    },
    {
     "data": {
      "text/plain": [
       "Text(0.5, 1.0, 'Class Distribution (Parents/Children Aboard)')"
      ]
     },
     "execution_count": 272,
     "metadata": {},
     "output_type": "execute_result"
    },
    {
     "data": {
      "image/png": "[encoded data removed]",
      "text/plain": [
       "<Figure size 720x432 with 1 Axes>"
      ]
     },
     "metadata": {},
     "output_type": "display_data"
    }
   ],
   "source": [
    "# Identify the data type of values in this column\n",
    "print(\"The data type of values in this column: \" + str(df['Parents/Children Aboard'].dtypes))\n",
    "print(\"\")\n",
    "\n",
    "# Identify all of the unique values among records in this column\n",
    "parents_children = df['Parents/Children Aboard'].unique()\n",
    "parents_children.sort()\n",
    "print(\"The list of unique values among all records in this column: \" + str(parents_children))\n",
    "print(\"\")\n",
    "\n",
    "# Generate a class distribution for values in this column\n",
    "print(\"The class distribution of values in this column:\")\n",
    "print(df.groupby('Parents/Children Aboard').size())\n",
    "print(\"\")\n",
    "\n",
    "# Generate a bar chart to better visualize the class distribution\n",
    "print(\"\"\"Class Distribution Bar Chart:\"\"\")\n",
    "plt.subplots(figsize=(10,6))\n",
    "sns.countplot(x = 'Parents/Children Aboard', data = df, order = df['Parents/Children Aboard'].value_counts().index).set_title(\"Class Distribution (Parents/Children Aboard)\")"
   ]
  },
  {
   "cell_type": "markdown",
   "metadata": {},
   "source": [
    "**Based on the above output:**\n",
    "\n",
    "Variable #6: Parents/Children Aboard\n",
    "- Column Type: Int\n",
    "- Seven unique values: 0, 1, 2, 3, 4, 5, and 6\n",
    "- Class distribution: 0 occurs 674 times, 1 occurs 118 times, 2 occurs 80 times, 3 occurs 5 times, 4 occurs 4 times, 5 occurs 5 times, and 6 occurs 1 time\n",
    "- Variable description: A discrete predictor variable whose values indicate how many parents/children that a given passenger had aboard the Titanic. A value of 0 indicates that a passenger had 0 parents/children aboard the ship, a value of 1 indicates that a passenger had 1 parent/child aboard the ship, and so on."
   ]
  },
  {
   "cell_type": "markdown",
   "metadata": {
    "id": "d5rH4hEwBD3l"
   },
   "source": [
    "#### Variable 7: Fare"
   ]
  },
  {
   "cell_type": "code",
   "execution_count": 273,
   "metadata": {
    "colab": {
     "base_uri": "https://localhost:8080/",
     "height": 750
    },
    "id": "spmHbVYABD3n",
    "outputId": "dfa6e386-556b-4845-dc2b-7fa1d92df525"
   },
   "outputs": [
    {
     "name": "stdout",
     "output_type": "stream",
     "text": [
      "The data type of values in this column: float64\n",
      "\n",
      "The list of unique values among all records in this column:\n",
      "[  0.       4.0125   5.       6.2375   6.4375   6.45     6.4958   6.75\n",
      "   6.8583   6.95     6.975    7.0458   7.05     7.0542   7.125    7.1417\n",
      "   7.225    7.2292   7.25     7.3125   7.4958   7.5208   7.55     7.6292\n",
      "   7.65     7.725    7.7292   7.7333   7.7375   7.7417   7.75     7.775\n",
      "   7.7875   7.7958   7.8      7.8292   7.8542   7.875    7.8792   7.8875\n",
      "   7.8958   7.925    8.0292   8.05     8.1125   8.1375   8.1583   8.3\n",
      "   8.3625   8.4042   8.4333   8.4583   8.5167   8.6542   8.6625   8.6833\n",
      "   8.7125   8.85     9.       9.2167   9.225    9.35     9.475    9.4833\n",
      "   9.5      9.5875   9.825    9.8375   9.8417   9.8458  10.1708  10.4625\n",
      "  10.5     10.5167  11.1333  11.2417  11.5     12.      12.275   12.2875\n",
      "  12.35    12.475   12.525   12.65    12.875   13.      13.4167  13.5\n",
      "  13.7917  13.8583  13.8625  14.      14.1083  14.4     14.4542  14.4583\n",
      "  14.5     15.      15.0458  15.05    15.1     15.2458  15.5     15.55\n",
      "  15.7417  15.75    15.85    15.9     16.      16.1     16.7     17.4\n",
      "  17.8     18.      18.75    18.7875  19.2583  19.5     19.9667  20.2125\n",
      "  20.25    20.525   20.575   21.      21.075   21.6792  22.025   22.3583\n",
      "  22.525   23.      23.25    23.45    24.      24.15    25.4667  25.5875\n",
      "  25.925   25.9292  26.      26.25    26.2833  26.2875  26.3875  26.55\n",
      "  27.      27.7208  27.75    27.9     28.5     28.7125  29.      29.125\n",
      "  29.7     30.      30.0708  30.5     30.6958  31.      31.275   31.3875\n",
      "  32.3208  32.5     33.      33.5     34.0208  34.375   34.6542  35.\n",
      "  35.5     36.75    37.0042  38.5     39.      39.4     39.6     39.6875\n",
      "  40.125   41.5792  42.4     46.9     47.1     49.5     49.5042  50.\n",
      "  50.4958  51.4792  51.8625  52.      52.5542  53.1     55.      55.4417\n",
      "  55.9     56.4958  56.9292  57.      57.9792  59.4     61.175   61.3792\n",
      "  61.9792  63.3583  65.      66.6     69.3     69.55    71.      71.2833\n",
      "  73.5     75.25    76.2917  76.7292  77.2875  77.9583  78.2667  78.85\n",
      "  79.2     79.65    80.      81.8583  82.1708  83.1583  83.475   86.5\n",
      "  89.1042  90.      91.0792  93.5    106.425  108.9    110.8833 113.275\n",
      " 120.     133.65   134.5    135.6333 146.5208 151.55   153.4625 164.8667\n",
      " 211.3375 211.5    221.7792 227.525  247.5208 262.375  263.     512.3292]\n",
      "\n",
      "Summary statistics for this column:\n",
      "count    887.00000\n",
      "mean      32.30542\n",
      "std       49.78204\n",
      "min        0.00000\n",
      "25%        7.92500\n",
      "50%       14.45420\n",
      "75%       31.13750\n",
      "max      512.32920\n",
      "Name: Fare, dtype: float64\n"
     ]
    },
    {
     "data": {
      "text/plain": [
       "Text(0.5, 0, 'Fare (in USD)')"
      ]
     },
     "execution_count": 273,
     "metadata": {},
     "output_type": "execute_result"
    },
    {
     "data": {
      "image/png": "[encoded data removed]",
      "text/plain": [
       "<Figure size 432x288 with 1 Axes>"
      ]
     },
     "metadata": {},
     "output_type": "display_data"
    }
   ],
   "source": [
    "# Identify the data type of values in this column\n",
    "print(\"The data type of values in this column: \" + str(df['Fare'].dtypes))\n",
    "print(\"\")\n",
    "\n",
    "# Identify all of the unique values among records in this column\n",
    "print(\"The list of unique values among all records in this column:\")\n",
    "fare = df['Fare'].unique()\n",
    "fare.sort()\n",
    "print(fare)\n",
    "print(\"\")\n",
    "\n",
    "# Summary statistics for this column\n",
    "print(\"Summary statistics for this column:\")\n",
    "print(df['Fare'].describe())\n",
    "\n",
    "# Histogram to view the shape of the column's value distribution curve\n",
    "df['Fare'].hist(bins = 50)\n",
    "plt.title('Fare Distribution')\n",
    "plt.ylabel('Frequency')\n",
    "plt.xlabel('Fare (in USD)')"
   ]
  },
  {
   "cell_type": "markdown",
   "metadata": {},
   "source": [
    "**Summary Statistics for Fare (Pre-Discretization)**\n",
    "- Mean Fare: 32.30542 Dollars\n",
    "- Standard Deviation: 49.78204 Dollars\n",
    "- Minimum Fare: 0 Dollars\n",
    "- Maximum Fare: 512.3292 Dollars\n",
    "- 25th Percentile: 7.925 Dollars\n",
    "- 50th Percentile (i.e., Median): 14.4542 Dollars\n",
    "- 75th Percentile: 31.13750 Dollars\n",
    "\n",
    "- ** Because the column's mean is significantly greater than its median, the column's value distribution exhibits significant positive-skewedness.\n",
    "\n",
    "**NOTE:** Because the variable 'Fare' is a float type column with and thus has continuous values, discretization will be performed in the following cell to ensure that values in this column are more easily interpretable when read into the decision tree classifier. "
   ]
  },
  {
   "cell_type": "code",
   "execution_count": 274,
   "metadata": {
    "colab": {
     "base_uri": "https://localhost:8080/",
     "height": 654
    },
    "id": "6BrsXVyjBD3r",
    "outputId": "d0391626-3200-4ce0-a8f7-052e077bfdd8"
   },
   "outputs": [
    {
     "name": "stdout",
     "output_type": "stream",
     "text": [
      "The NEW data type of values in this column: Category\n",
      "\n",
      "The NEW list of unique values among all records in this column:\n",
      "[0 1 2 3]\n",
      "\n",
      "The class distribution of values in this column:\n",
      "Fare\n",
      "0    238\n",
      "1    206\n",
      "2    221\n",
      "3    222\n",
      "dtype: int64\n",
      "\n",
      "Class Distribution Histogram:\n"
     ]
    },
    {
     "data": {
      "image/png": "[encoded data removed]",
      "text/plain": [
       "<Figure size 720x432 with 1 Axes>"
      ]
     },
     "metadata": {},
     "output_type": "display_data"
    }
   ],
   "source": [
    "# Discretize the continuous values by binning them\n",
    "df['Fare'] = pd.qcut(df['Fare'], q=4, labels=[0, 1, 2, 3], duplicates=\"drop\")\n",
    "\n",
    "# Reevaluate the data type of values in this column\n",
    "print(\"The NEW data type of values in this column: \" + str(df['Fare'].dtypes).capitalize())\n",
    "print(\"\")\n",
    "\n",
    "# Reevaluate all of the unique values among records in this column\n",
    "print(\"The NEW list of unique values among all records in this column:\")\n",
    "df['Fare'] = df['Fare'].astype(int) # To enable unique values to be sorted via .sort()\n",
    "fare = df['Fare'].unique()\n",
    "fare.sort()\n",
    "print(fare)\n",
    "print(\"\")\n",
    "\n",
    "# Generate a class distribution for values in this column\n",
    "print(\"The class distribution of values in this column:\")\n",
    "print(df.groupby('Fare').size())\n",
    "print(\"\")\n",
    "\n",
    "# Generate a bar chart to better visualize the class distribution\n",
    "print(\"\"\"Class Distribution Histogram:\"\"\")\n",
    "plt.subplots(figsize=(10,6))\n",
    "plt.hist(df['Fare'], bins = 4, range = (0,4))\n",
    "plt.title('Class Distribution (Fare)')\n",
    "plt.xlabel('Fare (See Variable Description for Label meanings)')\n",
    "plt.ylabel('Frequency')\n",
    "plt.show()"
   ]
  },
  {
   "cell_type": "markdown",
   "metadata": {},
   "source": [
    "**Based on the above output:**\n",
    "\n",
    "Variable #7: Fare (POST-DISCRETIZATION)\n",
    "- Column Type: Category\n",
    "- Four unique values: 0, 1, 2, and 3\n",
    "- Class distribution: 0 occurs 238 times, 1 occurs 206 times, 2 occurs 221 times, 3 occurs 222 times\n",
    "- Variable description: Originally represented in the data set as a continuous predictor variable with values being indicative of how much money a given passenger aboard the Titanic paid for their ticket (in USD). However, the decision tree model benefits from being given discrete variables for each stage of implementation. To discretize the Fare values \n",
    "into an easily interpretable form, all continuous values were divided into four separate discrete bins with each bin representing a percentile range (0 = 0th - 25th percentile, 1 = 26th to 50th percentile, 2 = 51st to 75th percentile, 3 = 76th to 100th percentile) of fares from the span of all values originally in the column."
   ]
  },
  {
   "cell_type": "markdown",
   "metadata": {
    "id": "-OCJRL1prffj"
   },
   "source": [
    "#### Convert all columns to string type (Compatability)"
   ]
  },
  {
   "cell_type": "code",
   "execution_count": 275,
   "metadata": {
    "id": "YtmLYlEa-Ngr"
   },
   "outputs": [],
   "source": [
    "# Convert all columns to string type to ensure compatability with the decision tree implementation\n",
    "df = df.astype(str)"
   ]
  },
  {
   "cell_type": "markdown",
   "metadata": {
    "id": "4ukjdKd-BD3t"
   },
   "source": [
    "## Training the Decision Tree Model + Accuracy Report (Titanic)"
   ]
  },
  {
   "cell_type": "markdown",
   "metadata": {
    "id": "QWJqIRJ0cQGF"
   },
   "source": [
    "#### Build and Train the Decision Tree Classifier"
   ]
  },
  {
   "cell_type": "code",
   "execution_count": 276,
   "metadata": {
    "id": "mC8FlZrJBD3u"
   },
   "outputs": [],
   "source": [
    "# Split the data into training and test sets\n",
    "t_train, t_test = train_test_split(df, test_size=0.2, random_state = 1)\n",
    "\n",
    "# Initialize the decision tree object and provide (1) the entire training set and (2) the training labels as arguments\n",
    "titanic_clf = DecisionTree(t_train, t_train.Survived)\n",
    "\n",
    "# Train the decision tree classifier\n",
    "titanic_clf.train()\n",
    "\n",
    "# Use the trained classifier to predict target labels in the test set and calculate an accuracy metric\n",
    "t_test_result, t_test_accuracy = titanic_clf.predict(t_test.drop(\"Survived\", axis=1), t_test[\"Survived\"])"
   ]
  },
  {
   "cell_type": "markdown",
   "metadata": {
    "id": "KcMxGZo8cZwh"
   },
   "source": [
    "#### Decision Tree Classifier Accuracy Report"
   ]
  },
  {
   "cell_type": "code",
   "execution_count": 277,
   "metadata": {
    "colab": {
     "base_uri": "https://localhost:8080/",
     "height": 103
    },
    "id": "dyUwyDJobo6I",
    "outputId": "f4ec87ce-f57a-4d67-a751-1a4e731e97c2"
   },
   "outputs": [
    {
     "name": "stdout",
     "output_type": "stream",
     "text": [
      "Test Accuracy: 82.02247191011236%\n"
     ]
    }
   ],
   "source": [
    "# The accuracy of the decision tree classifier at being able to predict target labels in the test set\n",
    "print(\"Test Accuracy: \" + str(t_test_accuracy*100) + \"%\")"
   ]
  },
  {
   "cell_type": "markdown",
   "metadata": {},
   "source": [
    "**INTERPRETATION:** The decision tree classifier was determined to be 82.02247191011236 percent accurate when used on the test data, indicating that the classifier accurately predicted the target label of whether a Titanic passenger survived or not during 82.02247191011236 percent of opportunities"
   ]
  },
  {
   "cell_type": "markdown",
   "metadata": {
    "id": "gsE3oprQclo0"
   },
   "source": [
    "#### Confusion Matrix"
   ]
  },
  {
   "cell_type": "code",
   "execution_count": 278,
   "metadata": {
    "colab": {
     "base_uri": "https://localhost:8080/",
     "height": 370
    },
    "id": "2aCGqZyL9YZD",
    "outputId": "d5dcacdd-a726-4097-eeaf-0df3db883bd0"
   },
   "outputs": [
    {
     "name": "stdout",
     "output_type": "stream",
     "text": [
      "The Decision Tree's confusion matrix relative to the test set:\n",
      "[[92 14]\n",
      " [18 54]]\n"
     ]
    }
   ],
   "source": [
    "# Generate a confusion matrix to better assess the classifier's accuracy at predicting target labels in the test set\n",
    "print(\"The Decision Tree's confusion matrix relative to the test set:\")\n",
    "confusion = confusion_matrix(t_test_result['actual'], t_test_result['prediction'], labels=['0','1'])\n",
    "print(confusion)"
   ]
  },
  {
   "cell_type": "markdown",
   "metadata": {},
   "source": [
    "**The Confusion Matrix communicates the following:** *(NOTE: ** = Value on Main Diagonal of Matrix)*\n",
    "\n",
    "* ** The model accurately predicted that the target label would be '0' (i.e., a passenger did NOT survive) when the target label was indeed '0' (i.e., the passenger in fact did NOT survive) during 92 instances.\n",
    "\n",
    "* ** The model accurately predicted that the target label would be '1' (i.e., a passenger DID survive) when the target label was indeed '1' (i.e., the passenger in fact DID survive) during 54 instances.\n",
    "\n",
    "* The model inaccurately predicted that the target label would be '1' (i.e., a passenger DID survive) when the target label was instead '0' (i.e., the passenger actually did NOT survive) during 14 instances.\n",
    "\n",
    "* The model accurately predicted that the target label would be '0' (i.e., a passenger did NOT survive) when the target label was instead '1' (i.e., the passenger actually DID survive) during 18 instances.\n",
    "\n",
    "**Conclusion:** We can be confident in the accuracy of the confusion matrix's depiction of the decision tree classifier's accuracy because it accurately predicted the target label (i.e., a passenger's survival status) during 146 out of a possible 178 instances, which is equal to an accuracy metric of 82.02247191011236 percent."
   ]
  },
  {
   "cell_type": "markdown",
   "metadata": {
    "id": "B-uxykvtBD3x"
   },
   "source": [
    "# Part 3: Car Evaluation Data Set"
   ]
  },
  {
   "cell_type": "markdown",
   "metadata": {
    "id": "zf6vhEG_BD3x"
   },
   "source": [
    "## Data Preprocessing/Analysis (Car Evaluation)"
   ]
  },
  {
   "cell_type": "markdown",
   "metadata": {
    "id": "Ixd0t21rrZqR"
   },
   "source": [
    "#### Read in the data set and establish its dimensions/missing values"
   ]
  },
  {
   "cell_type": "code",
   "execution_count": 279,
   "metadata": {
    "colab": {
     "base_uri": "https://localhost:8080/",
     "height": 133
    },
    "id": "anRdOewVBD3y",
    "outputId": "9ea00444-6604-40c7-f48b-6484ec7e22ac"
   },
   "outputs": [
    {
     "name": "stdout",
     "output_type": "stream",
     "text": [
      "Dimensions of the Car Evaluation data set: (1728, 7)\n",
      "\n",
      "Dimensions of the Car Evaluation data set (AFTER dropping rows with missing values): (1728, 7)\n"
     ]
    }
   ],
   "source": [
    "# Read in the Car Evaluation data set\n",
    "df2 = pd.read_csv(\"https://archive.ics.uci.edu/ml/machine-learning-databases/car/car.data\", header=None,\n",
    "    names=[\"buying_price\", \"maintenance_price\", \"door_count\", \"person_capacity\", \"trunk_size\", \"safety_rating\", \"car_acceptability\"],\n",
    ")\n",
    "\n",
    "# Establish the dimensions of the Car Evaluation data set\n",
    "print(\"Dimensions of the Car Evaluation data set: \" + str(df2.shape))\n",
    "print(\"\")\n",
    "\n",
    "# Preemptively drop any rows with missing values from the data frame\n",
    "df2 = df2.dropna(axis=0)\n",
    "df2.reset_index(drop=True)\n",
    "\n",
    "# Determine if any rows were dropped due to at least one column within said row having a missing value\n",
    "print(\"Dimensions of the Car Evaluation data set (AFTER dropping rows with missing values): \" + str(df2.shape))"
   ]
  },
  {
   "cell_type": "markdown",
   "metadata": {},
   "source": [
    "**Based on the above output:**\n",
    "\n",
    "- BEFORE attempting to drop rows with missing columns, the dimensions of the Car Evaluation data set were: 1728 rows and 7 columns\n",
    "    - Representing 1728 cars across 7 variables\n",
    "\n",
    "- AFTER dropping dropping rows with missing values, the dimensions of the Car Evaluation data set were: 1728 rows and 7 columns\n",
    "  - *(NOTE: Since no rows were dropped, this result indicates that no rows were missing values.)*"
   ]
  },
  {
   "cell_type": "markdown",
   "metadata": {
    "id": "9EZCZO7GBD33"
   },
   "source": [
    "#### Identify the variables in the Car Evaluation data frame"
   ]
  },
  {
   "cell_type": "code",
   "execution_count": 280,
   "metadata": {
    "colab": {
     "base_uri": "https://localhost:8080/",
     "height": 383
    },
    "id": "eD5Q9lNkBD34",
    "outputId": "b1bb1a38-dfec-4dc8-f54d-d3ee373ddd39"
   },
   "outputs": [
    {
     "name": "stdout",
     "output_type": "stream",
     "text": [
      "A list of variables in the Car Evaluation data frame and each column's respective value type:\n",
      "\n",
      "buying_price         object\n",
      "maintenance_price    object\n",
      "door_count           object\n",
      "person_capacity      object\n",
      "trunk_size           object\n",
      "safety_rating        object\n",
      "car_acceptability    object\n",
      "dtype: object\n"
     ]
    }
   ],
   "source": [
    "# Identify the variables in the data frame\n",
    "print(\"A list of variables in the Car Evaluation data frame and each column's respective value type:\")\n",
    "print(\"\")\n",
    "print(df2.dtypes)"
   ]
  },
  {
   "cell_type": "markdown",
   "metadata": {},
   "source": [
    "**Based on the above output:**\n",
    "\n",
    "The Car Evaluation data set contains the following seven variables:\n",
    "1. buying_price\n",
    "2. maintenance_price\n",
    "3. door_count\n",
    "4. person_capacity\n",
    "5. trunk_size\n",
    "6. safety_rating\n",
    "7. car_acceptability\n",
    "\n",
    "***NOTE: Each variable will be further processed and analayzed in the subsequent cells.***"
   ]
  },
  {
   "cell_type": "markdown",
   "metadata": {
    "id": "PBrPxwOrBD38"
   },
   "source": [
    "#### Variable 1: buying_price"
   ]
  },
  {
   "cell_type": "code",
   "execution_count": 281,
   "metadata": {
    "colab": {
     "base_uri": "https://localhost:8080/",
     "height": 755
    },
    "id": "wB8Qdv7lBD38",
    "outputId": "45bf3ed3-49bd-42b9-ad54-3e6698b08fc7",
    "scrolled": false
   },
   "outputs": [
    {
     "name": "stdout",
     "output_type": "stream",
     "text": [
      "The data type of values in this column: object\n",
      "\n",
      "The list of unique values among all records in this column: ['high' 'low' 'med' 'vhigh']\n",
      "\n",
      "The class distribution of values in this column:\n",
      "buying_price\n",
      "high     432\n",
      "low      432\n",
      "med      432\n",
      "vhigh    432\n",
      "dtype: int64\n",
      "\n",
      "Class Distribution Bar Chart:\n"
     ]
    },
    {
     "data": {
      "text/plain": [
       "(0.0, 500.0)"
      ]
     },
     "execution_count": 281,
     "metadata": {},
     "output_type": "execute_result"
    },
    {
     "data": {
      "image/png": "[encoded data removed]",
      "text/plain": [
       "<Figure size 720x432 with 1 Axes>"
      ]
     },
     "metadata": {},
     "output_type": "display_data"
    }
   ],
   "source": [
    "# Identify the data type of values in this column\n",
    "print(\"The data type of values in this column: \" + str(df2['buying_price'].dtypes))\n",
    "print(\"\")\n",
    "\n",
    "# Identify all of the unique values among records in this column\n",
    "buying_price = df2['buying_price'].unique()\n",
    "buying_price.sort()\n",
    "print(\"The list of unique values among all records in this column: \" + str(buying_price))\n",
    "print(\"\")\n",
    "\n",
    "# Generate a class distribution for values in this column\n",
    "print(\"The class distribution of values in this column:\")\n",
    "print(df2.groupby('buying_price').size())\n",
    "print(\"\")\n",
    "\n",
    "# Generate a bar chart to better visualize the class distribution\n",
    "print(\"\"\"Class Distribution Bar Chart:\"\"\")\n",
    "plt.subplots(figsize=(10,6))\n",
    "sns.countplot(x = 'buying_price', data = df2, order = df2['buying_price'].value_counts().index).set_title(\"Class Distribution (buying_price)\")\n",
    "plt.ylim(0, 500)"
   ]
  },
  {
   "cell_type": "markdown",
   "metadata": {},
   "source": [
    "**Based on the above output:**\n",
    "\n",
    "Variable #1: buying_price\n",
    "- Column Type: Object\n",
    "- Four unique values: 'low', 'med', 'high', and 'vhigh'\n",
    "- Class distribution: Each unique value occurs 432 times, respectively\n",
    "- Variable description: A predictor variable that indicates the buying price of any given car in the data set. The column contains four unique string-type values: 'low' (i.e., a car has a low buying price), 'med' (i.e., a car has a medium buying price), 'high' (i.e., a car has a high buying price), and 'vhigh' (i.e., a car has a very high buying price)."
   ]
  },
  {
   "cell_type": "markdown",
   "metadata": {
    "id": "vA27xNQLBD4E"
   },
   "source": [
    "#### Variable 2: maintenance_price"
   ]
  },
  {
   "cell_type": "code",
   "execution_count": 282,
   "metadata": {
    "colab": {
     "base_uri": "https://localhost:8080/",
     "height": 772
    },
    "id": "SASaIi4fBD4F",
    "outputId": "f1d34347-5c2a-41b6-c819-9e1b8e36bfdd"
   },
   "outputs": [
    {
     "name": "stdout",
     "output_type": "stream",
     "text": [
      "The data type of values in this column: object\n",
      "\n",
      "The list of unique values among all records in this column: ['high' 'low' 'med' 'vhigh']\n",
      "\n",
      "The class distribution of values in this column:\n",
      "maintenance_price\n",
      "high     432\n",
      "low      432\n",
      "med      432\n",
      "vhigh    432\n",
      "dtype: int64\n",
      "\n",
      "Class Distribution Bar Chart:\n"
     ]
    },
    {
     "data": {
      "text/plain": [
       "(0.0, 500.0)"
      ]
     },
     "execution_count": 282,
     "metadata": {},
     "output_type": "execute_result"
    },
    {
     "data": {
      "image/png": "[encoded data removed]",
      "text/plain": [
       "<Figure size 720x432 with 1 Axes>"
      ]
     },
     "metadata": {},
     "output_type": "display_data"
    }
   ],
   "source": [
    "# Identify the data type of values in this column\n",
    "print(\"The data type of values in this column: \" + str(df2['maintenance_price'].dtypes))\n",
    "print(\"\")\n",
    "\n",
    "# Identify all of the unique values among records in this column\n",
    "maintenance_price = df2['maintenance_price'].unique()\n",
    "maintenance_price.sort()\n",
    "print(\"The list of unique values among all records in this column: \" + str(maintenance_price))\n",
    "print(\"\")\n",
    "\n",
    "# Generate a class distribution for values in this column\n",
    "print(\"The class distribution of values in this column:\")\n",
    "print(df2.groupby('maintenance_price').size())\n",
    "print(\"\")\n",
    "\n",
    "# Generate a bar chart to better visualize the class distribution\n",
    "print(\"\"\"Class Distribution Bar Chart:\"\"\")\n",
    "plt.subplots(figsize=(10,6))\n",
    "sns.countplot(x = 'maintenance_price', data = df2, order = df2['maintenance_price'].value_counts().index).set_title(\"Class Distribution (maintenance_price)\")\n",
    "plt.ylim(0, 500)"
   ]
  },
  {
   "cell_type": "markdown",
   "metadata": {},
   "source": [
    "**Based on the above output:**\n",
    "\n",
    "Variable #2: maintenance_price\n",
    "- Column Type: Object\n",
    "- Four unique values: 'low', 'med', 'high', and 'vhigh'\n",
    "- Class distribution: Each unique value occurs 432 times, respectively\n",
    "- Variable description: A predictor variable that indicates the maintenance price of any given car in the data set. The column contains four unique string-type values: 'low' (i.e., a car has a low maintenance price), 'med' (i.e., a car has a medium maintenance price), 'high' (i.e., a car has a high maintenance price), and 'vhigh' (i.e., a car has a very high \n",
    "maintenance price)."
   ]
  },
  {
   "cell_type": "markdown",
   "metadata": {
    "id": "HkanzL9UBD4M"
   },
   "source": [
    "#### Variable 3: door_count"
   ]
  },
  {
   "cell_type": "code",
   "execution_count": 283,
   "metadata": {
    "colab": {
     "base_uri": "https://localhost:8080/",
     "height": 755
    },
    "id": "FXKpJ937BD4N",
    "outputId": "a5d2ee2b-52e4-457d-934b-77a66f1dd397"
   },
   "outputs": [
    {
     "name": "stdout",
     "output_type": "stream",
     "text": [
      "The data type of values in this column: object\n",
      "\n",
      "The list of unique values among all records in this column: ['2' '3' '4' '5more']\n",
      "\n",
      "The class distribution of values in this column:\n",
      "door_count\n",
      "2        432\n",
      "3        432\n",
      "4        432\n",
      "5more    432\n",
      "dtype: int64\n",
      "\n",
      "Class Distribution Bar Chart:\n"
     ]
    },
    {
     "data": {
      "text/plain": [
       "(0.0, 500.0)"
      ]
     },
     "execution_count": 283,
     "metadata": {},
     "output_type": "execute_result"
    },
    {
     "data": {
      "image/png": "[encoded data removed]",
      "text/plain": [
       "<Figure size 720x432 with 1 Axes>"
      ]
     },
     "metadata": {},
     "output_type": "display_data"
    }
   ],
   "source": [
    "# Identify the data type of values in this column\n",
    "print(\"The data type of values in this column: \" + str(df2['door_count'].dtypes))\n",
    "print(\"\")\n",
    "\n",
    "# Identify all of the unique values among records in this column\n",
    "door_count = df2['door_count'].unique()\n",
    "door_count.sort()\n",
    "print(\"The list of unique values among all records in this column: \" + str(door_count))\n",
    "print(\"\")\n",
    "\n",
    "# Generate a class distribution for values in this column\n",
    "print(\"The class distribution of values in this column:\")\n",
    "print(df2.groupby('door_count').size())\n",
    "print(\"\")\n",
    "\n",
    "# Generate a bar chart to better visualize the class distribution\n",
    "print(\"\"\"Class Distribution Bar Chart:\"\"\")\n",
    "plt.subplots(figsize=(10,6))\n",
    "sns.countplot(x = 'door_count', data = df2, order = df2['door_count'].value_counts().index).set_title(\"Class Distribution (door_count)\")\n",
    "plt.ylim(0, 500)"
   ]
  },
  {
   "cell_type": "markdown",
   "metadata": {},
   "source": [
    "**Based on the above output:**\n",
    "\n",
    "Variable #3: door_count\n",
    "- Column Type: Object\n",
    "- Four unique values: '2', '3', '4', and '5more'\n",
    "- Class distribution: Each unique value occurs 432 times, respectively\n",
    "- Variable description: A predictor variable that indicates the number of doors that any given car in the data set has. The column contains four unique string-type values: 2 (i.e., a car has 2 doors), 3 (i.e., a car has 3 doors), 4 (i.e., a car has 4 doors), and'5more' (i.e., a car has 5 or more doors)."
   ]
  },
  {
   "cell_type": "markdown",
   "metadata": {
    "id": "aEKdW4zJBD4b"
   },
   "source": [
    "#### Variable 4: person_capacity"
   ]
  },
  {
   "cell_type": "code",
   "execution_count": 284,
   "metadata": {
    "colab": {
     "base_uri": "https://localhost:8080/",
     "height": 738
    },
    "id": "gbRYaEJFBD4c",
    "outputId": "cb9a3cb9-311f-461a-bb2e-b2cb1b1a94ab"
   },
   "outputs": [
    {
     "name": "stdout",
     "output_type": "stream",
     "text": [
      "The data type of values in this column: object\n",
      "\n",
      "The list of unique values among all records in this column: ['2' '4' 'more']\n",
      "\n",
      "The class distribution of values in this column:\n",
      "person_capacity\n",
      "2       576\n",
      "4       576\n",
      "more    576\n",
      "dtype: int64\n",
      "\n",
      "Class Distribution Bar Chart:\n"
     ]
    },
    {
     "data": {
      "text/plain": [
       "(0.0, 600.0)"
      ]
     },
     "execution_count": 284,
     "metadata": {},
     "output_type": "execute_result"
    },
    {
     "data": {
      "image/png": "[encoded data removed]",
      "text/plain": [
       "<Figure size 720x432 with 1 Axes>"
      ]
     },
     "metadata": {},
     "output_type": "display_data"
    }
   ],
   "source": [
    "# Identify the data type of values in this column\n",
    "print(\"The data type of values in this column: \" + str(df2['person_capacity'].dtypes))\n",
    "print(\"\")\n",
    "\n",
    "# Identify all of the unique values among records in this column\n",
    "person_capacity = df2['person_capacity'].unique()\n",
    "person_capacity.sort()\n",
    "print(\"The list of unique values among all records in this column: \" + str(person_capacity))\n",
    "print(\"\")\n",
    "\n",
    "# Generate a class distribution for values in this column\n",
    "print(\"The class distribution of values in this column:\")\n",
    "print(df2.groupby('person_capacity').size())\n",
    "print(\"\")\n",
    "\n",
    "# Generate a bar chart to better visualize the class distribution\n",
    "print(\"\"\"Class Distribution Bar Chart:\"\"\")\n",
    "plt.subplots(figsize=(10,6))\n",
    "sns.countplot(x = 'person_capacity', data = df2, order = df2['person_capacity'].value_counts().index).set_title(\"Class Distribution (person_capacity)\")\n",
    "plt.ylim(0, 600)"
   ]
  },
  {
   "cell_type": "markdown",
   "metadata": {},
   "source": [
    "**Based on the above output:**\n",
    "\n",
    "Variable #4: person_capacity\n",
    "- Column Type: Object\n",
    "- Three unique values: '2', '4', and 'more'\n",
    "- Class distribution: Each unique value occurs 576 times, respectively\n",
    "- Variable description: A predictor variable that indicates the maximum capacity of persons that can fit inside of any given car in the data set. The column contains three unique string-type values: 2 (i.e., a car fits 2 people), 4 (i.e., a car fits 4 people), and 'more' (i.e., a car fits more than 4 people)."
   ]
  },
  {
   "cell_type": "markdown",
   "metadata": {
    "id": "sZ14LXvWBD4i"
   },
   "source": [
    "#### Variable 5: trunk_size"
   ]
  },
  {
   "cell_type": "code",
   "execution_count": 285,
   "metadata": {
    "colab": {
     "base_uri": "https://localhost:8080/",
     "height": 738
    },
    "id": "WvJAqHDuBD4j",
    "outputId": "1d108e91-643d-4512-baf6-eb6375707223"
   },
   "outputs": [
    {
     "name": "stdout",
     "output_type": "stream",
     "text": [
      "The data type of values in this column: object\n",
      "\n",
      "The list of unique values among all records in this column: ['big' 'med' 'small']\n",
      "\n",
      "The class distribution of values in this column:\n",
      "trunk_size\n",
      "big      576\n",
      "med      576\n",
      "small    576\n",
      "dtype: int64\n",
      "\n",
      "Class Distribution Bar Chart:\n"
     ]
    },
    {
     "data": {
      "text/plain": [
       "(0.0, 600.0)"
      ]
     },
     "execution_count": 285,
     "metadata": {},
     "output_type": "execute_result"
    },
    {
     "data": {
      "image/png": "[encoded data removed]",
      "text/plain": [
       "<Figure size 720x432 with 1 Axes>"
      ]
     },
     "metadata": {},
     "output_type": "display_data"
    }
   ],
   "source": [
    "# Identify the data type of values in this column\n",
    "print(\"The data type of values in this column: \" + str(df2['trunk_size'].dtypes))\n",
    "print(\"\")\n",
    "\n",
    "# Identify all of the unique values among records in this column\n",
    "trunk_size = df2['trunk_size'].unique()\n",
    "trunk_size.sort()\n",
    "print(\"The list of unique values among all records in this column: \" + str(trunk_size))\n",
    "print(\"\")\n",
    "\n",
    "# Generate a class distribution for values in this column\n",
    "print(\"The class distribution of values in this column:\")\n",
    "print(df2.groupby('trunk_size').size())\n",
    "print(\"\")\n",
    "\n",
    "# Generate a bar chart to better visualize the class distribution\n",
    "print(\"\"\"Class Distribution Bar Chart:\"\"\")\n",
    "plt.subplots(figsize=(10,6))\n",
    "sns.countplot(x = 'trunk_size', data = df2, order = df2['trunk_size'].value_counts().index).set_title(\"Class Distribution (trunk_size)\")\n",
    "plt.ylim(0, 600)"
   ]
  },
  {
   "cell_type": "markdown",
   "metadata": {},
   "source": [
    "**Based on the above output:**\n",
    "\n",
    "Variable #5: trunk_size\n",
    "- Column Type: Object\n",
    "- Three unique values: 'small', 'med', and 'big'\n",
    "- Class distribution: Each unique value occurs 576 times, respectively\n",
    "- Variable description: A predictor variable that indicates the size of the trunk for any given car in the data set. The column contains three unique string-type values: 'small' (i.e., a car has a small-sized trunk), 'med' (i.e., a car has a medium-sized trunk), and 'big' (i.e., a car has a big-sized trunk)."
   ]
  },
  {
   "cell_type": "markdown",
   "metadata": {
    "id": "_8P8nn28BD4s"
   },
   "source": [
    "#### Variable 6: safety_rating"
   ]
  },
  {
   "cell_type": "code",
   "execution_count": 286,
   "metadata": {
    "colab": {
     "base_uri": "https://localhost:8080/",
     "height": 738
    },
    "id": "TkR4OROCBD4t",
    "outputId": "57ac3c52-fd87-43e7-fa2b-bdb6e13162d8"
   },
   "outputs": [
    {
     "name": "stdout",
     "output_type": "stream",
     "text": [
      "The data type of values in this column: object\n",
      "\n",
      "The list of unique values among all records in this column: ['high' 'low' 'med']\n",
      "\n",
      "The class distribution of values in this column:\n",
      "safety_rating\n",
      "high    576\n",
      "low     576\n",
      "med     576\n",
      "dtype: int64\n",
      "\n",
      "Class Distribution Bar Chart:\n"
     ]
    },
    {
     "data": {
      "text/plain": [
       "(0.0, 600.0)"
      ]
     },
     "execution_count": 286,
     "metadata": {},
     "output_type": "execute_result"
    },
    {
     "data": {
      "image/png": "[encoded data removed]",
      "text/plain": [
       "<Figure size 720x432 with 1 Axes>"
      ]
     },
     "metadata": {},
     "output_type": "display_data"
    }
   ],
   "source": [
    "# Identify the data type of values in this column\n",
    "print(\"The data type of values in this column: \" + str(df2['safety_rating'].dtypes))\n",
    "print(\"\")\n",
    "\n",
    "# Identify all of the unique values among records in this column\n",
    "safety_rating = df2['safety_rating'].unique()\n",
    "safety_rating.sort()\n",
    "print(\"The list of unique values among all records in this column: \" + str(safety_rating))\n",
    "print(\"\")\n",
    "\n",
    "# Generate a class distribution for values in this column\n",
    "print(\"The class distribution of values in this column:\")\n",
    "print(df2.groupby('safety_rating').size())\n",
    "print(\"\")\n",
    "\n",
    "# Generate a bar chart to better visualize the class distribution\n",
    "print(\"\"\"Class Distribution Bar Chart:\"\"\")\n",
    "plt.subplots(figsize=(10,6))\n",
    "sns.countplot(x = 'safety_rating', data = df2, order = df2['safety_rating'].value_counts().index).set_title(\"Class Distribution (safety_rating)\")\n",
    "plt.ylim(0, 600)"
   ]
  },
  {
   "cell_type": "markdown",
   "metadata": {},
   "source": [
    "**Based on the above output:**\n",
    "\n",
    "Variable #6: safety_rating\n",
    "- Column Type: Object\n",
    "- Three unique values: 'low', 'med', and 'high'\n",
    "- Class distribution: Each unique value occurs 576 times, respectively\n",
    "- Variable description: A predictor variable that indicates the safety rating for any given car in the data set. The column contains three unique string-type values: 'low' (i.e., a car has a low safety rating), 'med' (i.e., a car has a medium safety rating), and 'high' (i.e., a car has a high safety rating)."
   ]
  },
  {
   "cell_type": "markdown",
   "metadata": {
    "id": "V_G0Y2M4BD42"
   },
   "source": [
    "#### Variable 7: car_acceptability"
   ]
  },
  {
   "cell_type": "code",
   "execution_count": 287,
   "metadata": {
    "colab": {
     "base_uri": "https://localhost:8080/",
     "height": 772
    },
    "id": "Ri39CY-QBD43",
    "outputId": "5b2b2834-fce2-49a1-a611-c9dab1b93540"
   },
   "outputs": [
    {
     "name": "stdout",
     "output_type": "stream",
     "text": [
      "The data type of values in this column: object\n",
      "\n",
      "The list of unique values among all records in this column: ['acc' 'good' 'unacc' 'vgood']\n",
      "\n",
      "The class distribution of values in this column:\n",
      "car_acceptability\n",
      "acc       384\n",
      "good       69\n",
      "unacc    1210\n",
      "vgood      65\n",
      "dtype: int64\n",
      "\n",
      "Class Distribution Bar Chart:\n"
     ]
    },
    {
     "data": {
      "text/plain": [
       "(0.0, 1250.0)"
      ]
     },
     "execution_count": 287,
     "metadata": {},
     "output_type": "execute_result"
    },
    {
     "data": {
      "image/png": "[encoded data removed]",
      "text/plain": [
       "<Figure size 720x432 with 1 Axes>"
      ]
     },
     "metadata": {},
     "output_type": "display_data"
    }
   ],
   "source": [
    "# Identify the data type of values in this column\n",
    "print(\"The data type of values in this column: \" + str(df2['car_acceptability'].dtypes))\n",
    "print(\"\")\n",
    "\n",
    "# Identify all of the unique values among records in this column\n",
    "car_acceptability = df2['car_acceptability'].unique()\n",
    "car_acceptability.sort()\n",
    "print(\"The list of unique values among all records in this column: \" + str(car_acceptability))\n",
    "print(\"\")\n",
    "\n",
    "# Generate a class distribution for values in this column\n",
    "print(\"The class distribution of values in this column:\")\n",
    "print(df2.groupby('car_acceptability').size())\n",
    "print(\"\")\n",
    "\n",
    "# Generate a bar chart to better visualize the class distribution\n",
    "print(\"\"\"Class Distribution Bar Chart:\"\"\")\n",
    "plt.subplots(figsize=(10,6))\n",
    "sns.countplot(x = 'car_acceptability', data = df2, order = df2['car_acceptability'].value_counts().index).set_title(\"Class Distribution (car_acceptability)\")\n",
    "plt.ylim(0, 1250)"
   ]
  },
  {
   "cell_type": "markdown",
   "metadata": {},
   "source": [
    "**Based on the above output:**\n",
    "\n",
    "Variable #7: car_acceptability\n",
    "- Column Type: Object\n",
    "- Four unique values: 'unacc', 'acc', 'good', and 'vgood'\n",
    "- Class distribution: 'unacc' occurs 1210 times, 'acc' occurs 384 times, 'good' occurs 69 times, and 'vgood' occurs 65 times\n",
    "- Variable description: A response variable that indicates the overall acceptability for any given car in the data set. The column contains four unique string-type values: 'unacc' (i.e., a car is in unacceptable condition), 'acc' (i.e., a car is in acceptable condition), 'good' (i.e., a car is in good condition), and 'vgood' (i.e., a car is in very\n",
    "good condition)."
   ]
  },
  {
   "cell_type": "markdown",
   "metadata": {
    "id": "ocdy8pcEBD5A"
   },
   "source": [
    "## Training the Decision Tree Model + Accuracy Report (Car Evaluation)"
   ]
  },
  {
   "cell_type": "markdown",
   "metadata": {
    "id": "Hijp43yXrw3A"
   },
   "source": [
    "#### Build and Train the Decision Tree Classifier"
   ]
  },
  {
   "cell_type": "code",
   "execution_count": 288,
   "metadata": {
    "id": "ctHYtVNCBD5B"
   },
   "outputs": [],
   "source": [
    "# Split the data into training and test sets\n",
    "c_train, c_test = train_test_split(df2, test_size=0.2, random_state = 1)\n",
    "\n",
    "# Initialize the decision tree object and provide (1) the entire training set and (2) the training labels as arguments\n",
    "cars_clf = DecisionTree(c_train, c_train.car_acceptability)\n",
    "\n",
    "# Train the decision tree classifier\n",
    "cars_clf.train()\n",
    "\n",
    "# Use the trained classifier to predict target labels in the test set and calculate an accuracy metric\n",
    "c_test_result, c_test_accuracy = cars_clf.predict(c_test.drop(\"car_acceptability\", axis=1), c_test[\"car_acceptability\"])"
   ]
  },
  {
   "cell_type": "markdown",
   "metadata": {
    "id": "Rm1ukMGLry-A"
   },
   "source": [
    "#### Decision Tree Classifier Accuracy Report"
   ]
  },
  {
   "cell_type": "code",
   "execution_count": 289,
   "metadata": {
    "colab": {
     "base_uri": "https://localhost:8080/",
     "height": 103
    },
    "id": "Vr9zc6H6sTuE",
    "outputId": "7c0fb0a6-7660-4f54-d5c3-0db13b614f7a"
   },
   "outputs": [
    {
     "name": "stdout",
     "output_type": "stream",
     "text": [
      "Test Accuracy: 90.17341040462428%\n"
     ]
    }
   ],
   "source": [
    "# The accuracy of the decision tree classifier at being able to predict target labels in the test set\n",
    "print(\"Test Accuracy: \" + str(c_test_accuracy*100) + \"%\")"
   ]
  },
  {
   "cell_type": "markdown",
   "metadata": {},
   "source": [
    "**INTERPRETATION:** The decision tree classifier was determined to be 90.17341040462428 percent accurate when used on the test data, indicating that the classifier accurately predicted the target label of a car's acceptability rating during 90.17341040462428 percent of opportunities."
   ]
  },
  {
   "cell_type": "markdown",
   "metadata": {
    "id": "M0XI0wIAr6_z"
   },
   "source": [
    "#### Confusion Matrix"
   ]
  },
  {
   "cell_type": "code",
   "execution_count": 290,
   "metadata": {
    "colab": {
     "base_uri": "https://localhost:8080/",
     "height": 1000
    },
    "id": "VELTfGCe4gfh",
    "outputId": "93ae1dbc-ff2c-49b6-98ae-e7d1d839b42a"
   },
   "outputs": [
    {
     "name": "stdout",
     "output_type": "stream",
     "text": [
      "The Decision Tree's confusion matrix relative to the test set:\n",
      "[[248  12   0   0]\n",
      " [ 11  46   1   1]\n",
      " [  3   0  10   1]\n",
      " [  5   0   0   8]]\n"
     ]
    }
   ],
   "source": [
    "# Generate a confusion matrix to better assess the classifier's accuracy at predicting target labels in the test set\n",
    "print(\"The Decision Tree's confusion matrix relative to the test set:\")\n",
    "confusion = confusion_matrix(c_test_result['actual'], c_test_result['prediction'], labels = ['unacc','acc','good','vgood'])\n",
    "print(confusion)"
   ]
  },
  {
   "cell_type": "markdown",
   "metadata": {},
   "source": [
    "**The FIRST ROW of the confusion matrix communicates the following:** *(NOTE: ** = Value on Main Diagonal of Matrix)*\n",
    "\n",
    "- ** The model accurately predicted that the target label would be 'unacc' (i.e., a car would have an acceptability rating of \"unacceptable\") when the target label was indeed 'unacc' (i.e., the car in fact had an acceptability rating of \"unacceptable\") during 248 instances.\n",
    "\n",
    "- The model inaccurately predicted that the target label would be 'acc' (i.e., a car would have an acceptability rating of \"acceptable\") when the target label was instead 'unacc' (i.e., the car actually had an acceptability rating of \"unacceptable\") during 12 instances.\n",
    "\n",
    "- The model inaccurately predicted that the target label would be 'good' (i.e., a car would have an acceptability rating of \"good\") when the target label was instead 'unacc' (i.e., the car actually had an acceptability rating of \"unacceptable\") during 0 instances.\n",
    "\n",
    "- The model inaccurately predicted that the target label would be 'vgood' (i.e., a car would have an acceptability rating of \"very good\") when the target label was instead 'unacceptable' (i.e., the car actually had an acceptability rating of \"unacceptable\") during 0 instances.\n",
    "\n",
    "**The SECOND ROW of the confusion matrix communicates the following:** *(NOTE: ** = Value on Main Diagonal of Matrix)*\n",
    "\n",
    "- ** The model accurately predicted that the target label would be 'acc' (i.e., a car would have an acceptability rating of \"acceptable\") when the target label was indeed 'acc' (i.e., the car in fact had an acceptability rating of \"acceptable\") during 46 instances.\n",
    "\n",
    "- The model inaccurately predicted that the target label would be 'unacc' (i.e., a car would have an acceptability rating of \"unacceptable\") when the target label was instead 'acc' (i.e., the car actually had an acceptability rating of \"acceptable\") during 11 instances.\n",
    "\n",
    "- The model inaccurately predicted that the target label would be 'good' (i.e., a car would have an acceptability rating of \"good\") when the target label was instead 'acc' (i.e., the car actually had an acceptability rating of \"acceptable\") during 1 instances.\n",
    "\n",
    "- The model inaccurately predicted that the target label would be 'vgood' (i.e., a car would have an acceptability rating of \"very good\") when the target label was instead 'acc' (i.e., the car actually had an acceptability rating of \"acceptable\") during 1 instances.\n",
    "\n",
    "**The THIRD ROW of the confusion matrix communicates the following:** *(NOTE: ** = Value on Main Diagonal of Matrix)*\n",
    "\n",
    "- ** The model accurately predicted that the target label would be 'good' (i.e., a car would have an acceptability rating of \"good\") when the target label was indeed 'good' (i.e., the car in fact had an acceptability rating of \"good\") during 10 instances.\n",
    "\n",
    "- The model inaccurately predicted that the target label would be 'unacc' (i.e., a car would have an acceptability rating of \"unacceptable\") when the target label was instead 'good' (i.e., the car actually had an acceptability rating of \"good\") during 3 instances.\n",
    "\n",
    "- The model inaccurately predicted that the target label would be 'acc' (i.e., a car would have an acceptability rating of \"acceptable\") when the target label was instead 'good' (i.e., the car actually had an acceptability rating of \"good\") during 0 instances.\n",
    "\n",
    "- The model inaccurately predicted that the target label would be 'vgood' (i.e., a car would have an acceptability rating of \"very good\") when the target label was instead 'good' (i.e., the car actually had an acceptability rating of \"good\") during 1 instances.\n",
    "\n",
    "**The FOURTH ROW of the confusion matrix communicates the following:** *(NOTE: ** = Value on Main Diagonal of Matrix)*\n",
    "\n",
    "- ** The model accurately predicted that the target label would be 'vgood' (i.e., a car would have an acceptability rating of \"very good\") when the target label was indeed 'vgood' (i.e., the car in fact had an acceptability rating of \"very good\") during 8 instances.\n",
    "\n",
    "- The model inaccurately predicted that the target label would be 'unacc' (i.e., a car would have an acceptability rating of \"unacceptable\") when the target label was instead 'vgood' (i.e., the car actually had an acceptability rating of \"very good\") during 5 instances.\n",
    "\n",
    "- The model inaccurately predicted that the target label would be 'acc' (i.e., a car would have an acceptability rating of \"acceptable\") when the target label was instead 'vgood' (i.e., the car actually had an acceptability rating of \"very good\") during 0 instances.\n",
    "\n",
    "- The model inaccurately predicted that the target label would be 'good' (i.e., a car would have an acceptability rating of \"good\") when the target label was instead 'vgood' (i.e., the car actually had an acceptability rating of \"very good\") during 0 instances.\n",
    "\n",
    "**CONCLUSION:** We can be confident in the accuracy of the confusion matrix's depiction of the decision tree classifier's accuracy because it accurately predicted the target label (i.e., a car's acceptability rating) during 312 out of a possible 346 instances, which is equal to the classifier's accuracy metric of 90.17341040462428 percent."
   ]
  }
 ],
 "metadata": {
  "colab": {
   "collapsed_sections": [],
   "name": "ME-Assignment1 (Categorical Features in Cars Data Set).ipynb",
   "provenance": [],
   "toc_visible": true
  },
  "kernelspec": {
   "display_name": "Python 3 (ipykernel)",
   "language": "python",
   "name": "python3"
  },
  "language_info": {
   "codemirror_mode": {
    "name": "ipython",
    "version": 3
   },
   "file_extension": ".py",
   "mimetype": "text/x-python",
   "name": "python",
   "nbconvert_exporter": "python",
   "pygments_lexer": "ipython3",
   "version": "3.8.12"
  }
 },
 "nbformat": 4,
 "nbformat_minor": 1
}
